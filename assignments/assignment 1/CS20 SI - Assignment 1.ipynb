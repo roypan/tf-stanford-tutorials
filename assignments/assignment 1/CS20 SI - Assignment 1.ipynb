{
 "cells": [
  {
   "cell_type": "markdown",
   "metadata": {},
   "source": [
    "## Problem 2: Logistic regression"
   ]
  },
  {
   "cell_type": "markdown",
   "metadata": {},
   "source": [
    "### Task 2: Logistic regression on the notMNIST dataset"
   ]
  },
  {
   "cell_type": "code",
   "execution_count": 1,
   "metadata": {
    "collapsed": false
   },
   "outputs": [
    {
     "name": "stdout",
     "output_type": "stream",
     "text": [
      "Average loss epoch 0: 44.33488977872408\n",
      "Average loss epoch 1: 34.44876448313395\n",
      "Average loss epoch 2: 34.92814995080997\n",
      "Average loss epoch 3: 38.55434448698647\n",
      "Average loss epoch 4: 35.38135434012128\n",
      "Average loss epoch 5: 37.37981925866543\n",
      "Average loss epoch 6: 37.48505497793866\n",
      "Average loss epoch 7: 40.10495813687643\n",
      "Average loss epoch 8: 37.12877786872733\n",
      "Average loss epoch 9: 37.61836052959801\n",
      "Average loss epoch 10: 37.5357357090355\n",
      "Average loss epoch 11: 39.35049327622112\n",
      "Average loss epoch 12: 38.695767604387726\n",
      "Average loss epoch 13: 38.730225630295585\n",
      "Average loss epoch 14: 39.63416152937799\n",
      "Average loss epoch 15: 38.5522324916644\n",
      "Average loss epoch 16: 36.91457963193584\n",
      "Average loss epoch 17: 39.308760219150116\n",
      "Average loss epoch 18: 37.465243902980774\n",
      "Average loss epoch 19: 37.44374863918011\n",
      "Average loss epoch 20: 38.79072883597806\n",
      "Average loss epoch 21: 40.03042451133076\n",
      "Average loss epoch 22: 38.28900230745984\n",
      "Average loss epoch 23: 38.15711561227456\n",
      "Average loss epoch 24: 37.5863380309863\n",
      "Average loss epoch 25: 40.12815444489829\n",
      "Average loss epoch 26: 39.75943086901282\n",
      "Average loss epoch 27: 38.783692688004585\n",
      "Average loss epoch 28: 39.59955826376238\n",
      "Average loss epoch 29: 39.49225793740688\n",
      "Average loss epoch 30: 39.060847710340454\n",
      "Average loss epoch 31: 41.076952145649834\n",
      "Average loss epoch 32: 38.36126622583112\n",
      "Average loss epoch 33: 38.72430460065858\n",
      "Average loss epoch 34: 37.7740268075568\n",
      "Average loss epoch 35: 39.39094587880322\n",
      "Average loss epoch 36: 40.27087569848085\n",
      "Average loss epoch 37: 39.43006214321169\n",
      "Average loss epoch 38: 39.55946269402137\n",
      "Average loss epoch 39: 40.33746061365829\n",
      "Average loss epoch 40: 39.01941224244925\n",
      "Average loss epoch 41: 41.44506193633772\n",
      "Average loss epoch 42: 40.09488817973015\n",
      "Average loss epoch 43: 36.95438127436189\n",
      "Average loss epoch 44: 39.49995206360124\n",
      "Average loss epoch 45: 42.666692591121056\n",
      "Average loss epoch 46: 41.53863556364663\n",
      "Average loss epoch 47: 37.925057290965675\n",
      "Average loss epoch 48: 37.7725785369547\n",
      "Average loss epoch 49: 38.411569379333756\n",
      "Total time: 293.63978242874146 seconds\n",
      "Optimization Finished!\n",
      "0\n",
      "Accuracy 0.8098\n"
     ]
    }
   ],
   "source": [
    "%run q2_nonmnist.py "
   ]
  },
  {
   "cell_type": "markdown",
   "metadata": {},
   "source": [
    "### Task 3: Build a logistic regression model to predict whether someone has coronary heart disease"
   ]
  },
  {
   "cell_type": "code",
   "execution_count": 7,
   "metadata": {
    "collapsed": false
   },
   "outputs": [
    {
     "name": "stdout",
     "output_type": "stream",
     "text": [
      "Average loss epoch 0: 0.9694133088923991\n",
      "Average loss epoch 1: 0.6313526770099998\n",
      "Average loss epoch 2: 0.724335802718997\n",
      "Average loss epoch 3: 0.6298537971451879\n",
      "Average loss epoch 4: 0.5834439108148217\n",
      "Average loss epoch 5: 0.6059224200434983\n",
      "Average loss epoch 6: 0.5176765769720078\n",
      "Average loss epoch 7: 0.5688584307208657\n",
      "Average loss epoch 8: 0.5648590144701302\n",
      "Average loss epoch 9: 0.6316381199285388\n",
      "Average loss epoch 10: 0.5594301717355847\n",
      "Average loss epoch 11: 0.7551470827311277\n",
      "Average loss epoch 12: 0.5376922665163875\n",
      "Average loss epoch 13: 0.5824845633469522\n",
      "Average loss epoch 14: 0.5565641294233501\n",
      "Average loss epoch 15: 0.6803032075986266\n",
      "Average loss epoch 16: 0.5650450112298131\n",
      "Average loss epoch 17: 0.6056938907131553\n",
      "Average loss epoch 18: 0.6145725250244141\n",
      "Average loss epoch 19: 0.6420163516886532\n",
      "Average loss epoch 20: 0.6659511460456997\n",
      "Average loss epoch 21: 0.7307201928924769\n",
      "Average loss epoch 22: 0.7489430494606495\n",
      "Average loss epoch 23: 0.6998913926072419\n",
      "Average loss epoch 24: 0.5992722455412149\n",
      "Average loss epoch 25: 0.6926891361363232\n",
      "Average loss epoch 26: 0.6161051401868463\n",
      "Average loss epoch 27: 0.7109652049839497\n",
      "Average loss epoch 28: 0.6539404401555657\n",
      "Average loss epoch 29: 0.5822955770418048\n",
      "Average loss epoch 30: 0.5642685452476144\n",
      "Average loss epoch 31: 0.5583659932017326\n",
      "Average loss epoch 32: 0.6072970554232597\n",
      "Average loss epoch 33: 0.5566152757965028\n",
      "Average loss epoch 34: 0.5925017362460494\n",
      "Average loss epoch 35: 0.6342049157246947\n",
      "Average loss epoch 36: 0.5483863651752472\n",
      "Average loss epoch 37: 0.5421868786215782\n",
      "Average loss epoch 38: 0.6414161548018456\n",
      "Average loss epoch 39: 0.9394270833581686\n",
      "Average loss epoch 40: 0.5836328505538404\n",
      "Average loss epoch 41: 0.5424934606999159\n",
      "Average loss epoch 42: 0.6317187258973718\n",
      "Average loss epoch 43: 0.5619089938700199\n",
      "Average loss epoch 44: 0.6181335961446166\n",
      "Average loss epoch 45: 0.6671634609811008\n",
      "Average loss epoch 46: 0.8103438280522823\n",
      "Average loss epoch 47: 0.7033185111358762\n",
      "Average loss epoch 48: 0.5536647448316216\n",
      "Average loss epoch 49: 0.6609525848180056\n",
      "Average loss epoch 50: 0.5075398227199912\n",
      "Average loss epoch 51: 0.6834456427022815\n",
      "Average loss epoch 52: 0.6275050761178136\n",
      "Average loss epoch 53: 0.759980053640902\n",
      "Average loss epoch 54: 0.5706559575628489\n",
      "Average loss epoch 55: 0.583791178651154\n",
      "Average loss epoch 56: 0.5655217627063394\n",
      "Average loss epoch 57: 0.5598946027457714\n",
      "Average loss epoch 58: 0.5904320091940463\n",
      "Average loss epoch 59: 0.6575234103947878\n",
      "Average loss epoch 60: 0.5433208215981722\n",
      "Average loss epoch 61: 0.7607804890722036\n",
      "Average loss epoch 62: 0.625165980309248\n",
      "Average loss epoch 63: 0.6925125205889344\n",
      "Average loss epoch 64: 0.6150276316329837\n",
      "Average loss epoch 65: 0.5205686199478805\n",
      "Average loss epoch 66: 0.5352075113914907\n",
      "Average loss epoch 67: 0.5773805724456906\n",
      "Average loss epoch 68: 0.6372492155060172\n",
      "Average loss epoch 69: 0.6294723879545927\n",
      "Average loss epoch 70: 0.5958321872167289\n",
      "Average loss epoch 71: 0.6141560934484005\n",
      "Average loss epoch 72: 0.7053309679031372\n",
      "Average loss epoch 73: 0.6148635409772396\n",
      "Average loss epoch 74: 0.6114283017814159\n",
      "Average loss epoch 75: 0.5244968528859317\n",
      "Average loss epoch 76: 0.5775660122744739\n",
      "Average loss epoch 77: 0.6527253310196102\n",
      "Average loss epoch 78: 0.6574026243761182\n",
      "Average loss epoch 79: 0.6447544358670712\n",
      "Average loss epoch 80: 0.648384933359921\n",
      "Average loss epoch 81: 0.6883708080276847\n",
      "Average loss epoch 82: 0.5924191176891327\n",
      "Average loss epoch 83: 0.5374903501942754\n",
      "Average loss epoch 84: 0.5516113126650453\n",
      "Average loss epoch 85: 0.5743643403984606\n",
      "Average loss epoch 86: 0.6821646904572845\n",
      "Average loss epoch 87: 0.6466959873214364\n",
      "Average loss epoch 88: 0.7143381545320153\n",
      "Average loss epoch 89: 0.5460731610655785\n",
      "Average loss epoch 90: 0.5907943490892649\n",
      "Average loss epoch 91: 0.6139703309163451\n",
      "Average loss epoch 92: 0.5915805324912071\n",
      "Average loss epoch 93: 0.5637546167708933\n",
      "Average loss epoch 94: 0.6265805987641215\n",
      "Average loss epoch 95: 0.5386773548088968\n",
      "Average loss epoch 96: 0.6213502651080489\n",
      "Average loss epoch 97: 0.5619429275393486\n",
      "Average loss epoch 98: 0.6718734088353813\n",
      "Average loss epoch 99: 0.52614885289222\n",
      "Total time: 8.630950450897217 seconds\n",
      "Optimization Finished!\n",
      "Accuracy 0.6618705035971223\n"
     ]
    }
   ],
   "source": [
    "%run q2_heart.py"
   ]
  },
  {
   "cell_type": "markdown",
   "metadata": {},
   "source": [
    "## Problem 3: Don’t predict, count!"
   ]
  },
  {
   "cell_type": "code",
   "execution_count": null,
   "metadata": {
    "collapsed": true
   },
   "outputs": [],
   "source": [
    "%run q3_count.py"
   ]
  },
  {
   "cell_type": "markdown",
   "metadata": {},
   "source": [
    "Visualization of the most frequent 50 words based on the first two dimensions of embeddings:\n",
    "![title](viz.jpg)"
   ]
  },
  {
   "cell_type": "code",
   "execution_count": null,
   "metadata": {
    "collapsed": true
   },
   "outputs": [],
   "source": []
  }
 ],
 "metadata": {
  "anaconda-cloud": {},
  "kernelspec": {
   "display_name": "Python [default]",
   "language": "python",
   "name": "python3"
  },
  "language_info": {
   "codemirror_mode": {
    "name": "ipython",
    "version": 3
   },
   "file_extension": ".py",
   "mimetype": "text/x-python",
   "name": "python",
   "nbconvert_exporter": "python",
   "pygments_lexer": "ipython3",
   "version": "3.5.2"
  }
 },
 "nbformat": 4,
 "nbformat_minor": 1
}
